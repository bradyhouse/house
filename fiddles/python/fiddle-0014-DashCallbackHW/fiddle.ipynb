{
 "cells": [
  {
   "cell_type": "markdown",
   "id": "1fecfa38-11e2-4032-8375-f98443a910d5",
   "metadata": {},
   "source": [
    "\n",
    "## Simple Dash AgGrid Example\n",
    "\n"
   ]
  },
  {
   "cell_type": "code",
   "execution_count": 1,
   "id": "400d4e66-97d6-4bf7-aad0-104d13051be7",
   "metadata": {},
   "outputs": [
    {
     "data": {
      "text/html": [
       "\n",
       "        <iframe\n",
       "            width=\"100%\"\n",
       "            height=\"650\"\n",
       "            src=\"http://127.0.0.1:8001/\"\n",
       "            frameborder=\"0\"\n",
       "            allowfullscreen\n",
       "            \n",
       "        ></iframe>\n",
       "        "
      ],
      "text/plain": [
       "<IPython.lib.display.IFrame at 0x113d34510>"
      ]
     },
     "metadata": {},
     "output_type": "display_data"
    }
   ],
   "source": [
    "import dash_ag_grid as dag\n",
    "from dash import Dash\n",
    "import pandas as pd\n",
    "\n",
    "app = Dash()\n",
    "\n",
    "df = pd.read_csv(\"data.csv\")\n",
    "\n",
    "app.layout = dag.AgGrid(\n",
    "    rowData=df.to_dict(\"records\"),\n",
    "    columnDefs=[{\"field\": i} for i in df.columns],\n",
    ")\n",
    "\n",
    "app.run(debug=True, port=8001, mode='external')"
   ]
  },
  {
   "cell_type": "markdown",
   "id": "9dcc943e-4ac4-46f3-9d5b-01b6d2abe611",
   "metadata": {},
   "source": [
    "## Advanced Callback Example"
   ]
  },
  {
   "cell_type": "code",
   "execution_count": 3,
   "id": "923968bb-42c3-431e-83b2-c629ab0bc25f",
   "metadata": {},
   "outputs": [
    {
     "data": {
      "text/html": [
       "\n",
       "        <iframe\n",
       "            width=\"100%\"\n",
       "            height=\"650\"\n",
       "            src=\"http://127.0.0.1:8002/\"\n",
       "            frameborder=\"0\"\n",
       "            allowfullscreen\n",
       "            \n",
       "        ></iframe>\n",
       "        "
      ],
      "text/plain": [
       "<IPython.lib.display.IFrame at 0x10a8403d0>"
      ]
     },
     "metadata": {},
     "output_type": "display_data"
    }
   ],
   "source": [
    "from dash import Dash, html, Input, Output, callback\n",
    "from dash.exceptions import PreventUpdate\n",
    "\n",
    "external_stylesheets = ['https://codepen.io/chriddyp/pen/bWLwgP.css']\n",
    "\n",
    "app = Dash(__name__, external_stylesheets=external_stylesheets)\n",
    "\n",
    "app.layout = html.Div([\n",
    "    html.Button('Click here to see the content', id='show-secret'),\n",
    "    html.Div(id='body-div')\n",
    "])\n",
    "\n",
    "@callback(\n",
    "    Output('body-div', 'children'),\n",
    "    Input('show-secret', 'n_clicks')\n",
    ")\n",
    "def update_output(n_clicks):\n",
    "    if n_clicks is None:\n",
    "        raise PreventUpdate\n",
    "    else:\n",
    "        return \"Elephants are the only animal that can't jump\"\n",
    "\n",
    "if __name__ == '__main__':\n",
    "    app.run(port=8002, debug=False)\n"
   ]
  },
  {
   "cell_type": "markdown",
   "id": "8672ba0b-4d88-4277-b2ae-c16141b64a04",
   "metadata": {},
   "source": [
    "## Grid / Chart Interaction"
   ]
  },
  {
   "cell_type": "code",
   "execution_count": 1,
   "id": "ad3e6e4e-e4d8-45c7-b387-a9c5f48e7a51",
   "metadata": {},
   "outputs": [
    {
     "data": {
      "text/html": [
       "\n",
       "        <iframe\n",
       "            width=\"100%\"\n",
       "            height=\"650\"\n",
       "            src=\"http://127.0.0.1:8050/\"\n",
       "            frameborder=\"0\"\n",
       "            allowfullscreen\n",
       "            \n",
       "        ></iframe>\n",
       "        "
      ],
      "text/plain": [
       "<IPython.lib.display.IFrame at 0x103fb1110>"
      ]
     },
     "metadata": {},
     "output_type": "display_data"
    }
   ],
   "source": [
    "import dash_ag_grid as dag\n",
    "from dash import Dash, dcc, html, Input, Output, State\n",
    "import pandas as pd\n",
    "import plotly.express as px\n",
    "\n",
    "app = Dash(__name__)\n",
    "\n",
    "# Load your data\n",
    "df = pd.read_csv(\"rocket_data.csv\")\n",
    "\n",
    "# Define AG-Grid layout\n",
    "app.layout = html.Div([\n",
    "    dag.AgGrid(\n",
    "        id='ag-grid',\n",
    "        rowData=df.to_dict(\"records\"),\n",
    "        columnDefs=[{\"field\": i} for i in df.columns],\n",
    "        dashGridOptions={'rowSelection': 'single'}  # Enable single row selection\n",
    "    ),\n",
    "    dcc.Graph(id='chart')\n",
    "])\n",
    "\n",
    "# Adjusted callback to use 'selectedRows'\n",
    "@app.callback(\n",
    "    Output('chart', 'figure'),\n",
    "    Input('ag-grid', 'selectedRows'),\n",
    "    State('ag-grid', 'rowData'))\n",
    "def update_chart(selected_rows, row_data):\n",
    "    if selected_rows:\n",
    "        # Directly use the first selected row's data for plotting\n",
    "        # Convert the dictionary to a DataFrame for compatibility with Plotly Express\n",
    "        fig = px.bar(pd.DataFrame([selected_rows[0]]), x='rocket', y='flights')\n",
    "        return fig\n",
    "    else:\n",
    "        # Return an empty figure if no row is selected\n",
    "        return px.bar()\n",
    "\n",
    "\n",
    "if __name__ == '__main__':\n",
    "    app.run_server(debug=True)\n"
   ]
  },
  {
   "cell_type": "code",
   "execution_count": null,
   "id": "72d6a282-dc45-49bd-b9bd-a4e33b1e3492",
   "metadata": {},
   "outputs": [],
   "source": []
  }
 ],
 "metadata": {
  "kernelspec": {
   "display_name": "Python 3 (ipykernel)",
   "language": "python",
   "name": "python3"
  },
  "language_info": {
   "codemirror_mode": {
    "name": "ipython",
    "version": 3
   },
   "file_extension": ".py",
   "mimetype": "text/x-python",
   "name": "python",
   "nbconvert_exporter": "python",
   "pygments_lexer": "ipython3",
   "version": "3.11.7"
  }
 },
 "nbformat": 4,
 "nbformat_minor": 5
}
