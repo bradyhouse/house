{
 "cells": [
  {
   "cell_type": "code",
   "execution_count": null,
   "id": "93cf061d-8651-4ff4-92cc-a509b83e94d5",
   "metadata": {},
   "outputs": [
    {
     "name": "stdout",
     "output_type": "stream",
     "text": [
      "Rolling the dice ...\n",
      "Their values are:\n",
      "6\n",
      "5\n"
     ]
    },
    {
     "name": "stdin",
     "output_type": "stream",
     "text": [
      "Roll them again? (y - yes):  y\n"
     ]
    },
    {
     "name": "stdout",
     "output_type": "stream",
     "text": [
      "Rolling the dice ...\n",
      "Their values are:\n",
      "1\n",
      "1\n"
     ]
    },
    {
     "name": "stdin",
     "output_type": "stream",
     "text": [
      "Roll them again? (y - yes):  n\n"
     ]
    }
   ],
   "source": [
    "import os\n",
    "import random\n",
    "\n",
    "MIN = 1\n",
    "MAX = 6\n",
    "\n",
    "def main():\n",
    "    again = 'y'\n",
    "    while again == 'y' or again == 'Y':\n",
    "        print('Rolling the dice ...')\n",
    "        print('Their values are:')\n",
    "        print(random.randint(MIN, MAX))\n",
    "        print(random.randint(MIN, MAX))\n",
    "        again = str(input('Roll them again? (y - yes): '))\n",
    "\n",
    "\n",
    "main()\n",
    "os._exit(1)\n"
   ]
  }
 ],
 "metadata": {
  "kernelspec": {
   "display_name": "Python 3 (ipykernel)",
   "language": "python",
   "name": "python3"
  },
  "language_info": {
   "codemirror_mode": {
    "name": "ipython",
    "version": 3
   },
   "file_extension": ".py",
   "mimetype": "text/x-python",
   "name": "python",
   "nbconvert_exporter": "python",
   "pygments_lexer": "ipython3",
   "version": "3.11.7"
  }
 },
 "nbformat": 4,
 "nbformat_minor": 5
}
