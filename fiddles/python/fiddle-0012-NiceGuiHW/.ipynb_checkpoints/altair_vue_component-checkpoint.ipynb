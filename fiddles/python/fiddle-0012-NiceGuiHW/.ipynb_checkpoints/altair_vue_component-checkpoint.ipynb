{
 "cells": [
  {
   "cell_type": "code",
   "execution_count": null,
   "id": "3fd9863a-56a4-42eb-add7-c8490403cb4f",
   "metadata": {},
   "outputs": [
    {
     "name": "stdout",
     "output_type": "stream",
     "text": [
      "NiceGUI ready to go on http://localhost:8080, and http://10.0.0.3:8080\n"
     ]
    }
   ],
   "source": [
    "from nicegui import ui, app\n",
    "import nest_asyncio\n",
    "\n",
    "from altair_chart import AltairChart\n",
    "\n",
    "from nicegui import ui\n",
    "\n",
    "app.add_static_files(\"/node_modules\", \"node_modules\")\n",
    "\n",
    "ui.add_head_html(f'''\n",
    "<!DOCTYPE html>\n",
    "<html>\n",
    "<head>\n",
    "  <meta charset=\"utf-8\">\n",
    "\n",
    "</head>\n",
    "<body>\n",
    "  <script src=\"node_modules/vega/build/vega.min.js\"></script>\n",
    "  <script src=\"node_modules/vega-lite/build/vega-lite.min.js\"></script>            \n",
    "  <script src=\"node_modules/vega-embed/build/vega-embed.min.js\"></script>\n",
    "  <script src=\"node_modules/axios/dist/axios.min.js\"></script>\n",
    "</body>\n",
    "</html>\n",
    "''')\n",
    "\n",
    "with ui.card():\n",
    "    chart = AltairChart(on_change=lambda e: ui.notify(f'The value changed to {e.args}.'))\n",
    "\n",
    "nest_asyncio.apply()\n",
    "\n",
    "ui.run(reload=False)"
   ]
  },
  {
   "cell_type": "code",
   "execution_count": null,
   "id": "7ddabdef-ab2f-4200-84d1-6a5a7423c1f5",
   "metadata": {},
   "outputs": [],
   "source": []
  },
  {
   "cell_type": "code",
   "execution_count": null,
   "id": "5fa49717-fda0-48b4-a982-017958203f2d",
   "metadata": {},
   "outputs": [],
   "source": []
  }
 ],
 "metadata": {
  "kernelspec": {
   "display_name": "Python 3 (ipykernel)",
   "language": "python",
   "name": "python3"
  },
  "language_info": {
   "codemirror_mode": {
    "name": "ipython",
    "version": 3
   },
   "file_extension": ".py",
   "mimetype": "text/x-python",
   "name": "python",
   "nbconvert_exporter": "python",
   "pygments_lexer": "ipython3",
   "version": "3.12.1"
  }
 },
 "nbformat": 4,
 "nbformat_minor": 5
}
